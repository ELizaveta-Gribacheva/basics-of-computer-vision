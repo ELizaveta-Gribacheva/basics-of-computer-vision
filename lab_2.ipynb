{
 "cells": [
  {
   "cell_type": "markdown",
   "metadata": {},
   "source": [
    "# Lab 2"
   ]
  },
  {
   "cell_type": "code",
   "execution_count": 17,
   "metadata": {},
   "outputs": [],
   "source": [
    "import os\n",
    "from PIL import Image\n",
    "import numpy as np\n",
    "import matplotlib\n",
    "import matplotlib.pyplot as plt\n",
    "import matplotlib.image as mpimg\n",
    "import cv2\n",
    "from typing import Tuple\n"
   ]
  },
  {
   "cell_type": "markdown",
   "metadata": {},
   "source": [
    "## Локальная пороговая обработка\n",
    "\n"
   ]
  },
  {
   "cell_type": "markdown",
   "metadata": {},
   "source": [
    "### Otsu’s method 大津展之 ŌtsuNobuyuki"
   ]
  },
  {
   "cell_type": "markdown",
   "metadata": {},
   "source": [
    "**Otsu’s method**  is a popular technique employed for image thresholding. It separates an image into two classes, foreground, and background, based on the grayscale intensity values of its pixels.\n",
    "\n",
    "- Furthermore, Otsu’s method uses the grayscale histogram of an image to detect an optimal threshold value that separates two regions with maximum inter-class variance.\n",
    "\n",
    "\\begin{equation*} H(i) = \\sum_{x=1}^{M}\\sum_{y=1}^{N} [I(x,y) = i] \\end{equation*}  \n"
   ]
  },
  {
   "cell_type": "markdown",
   "metadata": {},
   "source": [
    "\n",
    "\n",
    "- Where M and N represent the width and height of the image, respectively, and [I(x,y) = i] is a function that returns one (1) if the pixel at position (x,y) has an intensity value of i, and zero (0) otherwise."
   ]
  },
  {
   "cell_type": "markdown",
   "metadata": {},
   "source": [
    "### Метод Niblack \n",
    "\n"
   ]
  },
  {
   "cell_type": "markdown",
   "metadata": {},
   "source": [
    "Метод используется на практике для быстрой фильтрации контрастных изображений, на которых отсутствуют сильно зашумленные области с плавными\n",
    "переходами яркости. \n",
    "\n",
    "- μ(x, y) – среднее и s(x, y) — среднеквадратичное отклонение выборки для некоторой окрестности точки.\n",
    "- Значение k определяет, какую часть границы объекта взять в качестве самого объекта. "
   ]
  },
  {
   "cell_type": "code",
   "execution_count": 18,
   "metadata": {},
   "outputs": [],
   "source": [
    "def niblack(img, k,n=5):\n",
    "\n",
    "    dx, dy = img.shape\n",
    "    img_copy = img.copy()\n",
    "\n",
    "    r = (n - 1) // 2\n",
    "\n",
    "    for i in range(r, dx - r):\n",
    "        \n",
    "        for j in range(r, dy - r):\n",
    "\n",
    "            block = img[i - r:i + r + 1, j - r:j + r + 1]\n",
    "\n",
    "            mean = np.sum(block) / (n * n)\n",
    "            rBstd = np.sqrt(np.sum((block - mean) ** 2) / (n * n))\n",
    "        \n",
    "            threshold = mean + k * rBstd\n",
    "            \n",
    "            if img[i, j] < threshold:\n",
    "                img_copy[i, j] = 0\n",
    "            else:\n",
    "                img_copy[i, j] = 255\n",
    "\n",
    "    return img_copy\n",
    "    "
   ]
  },
  {
   "cell_type": "markdown",
   "metadata": {},
   "source": [
    "### Sauvola Method"
   ]
  },
  {
   "cell_type": "markdown",
   "metadata": {},
   "source": [
    "- k is a control factor in the range of [0.2, 0.5] \n",
    "- R is a predetermined image graylevel value.\n",
    "- s is a standard deviation of the neighbourhood\n",
    "\n",
    "$$\n",
    "T(x, y) = \\mu(x, y) \\cdot \\left[ 1 - k \\cdot \\left(1 - \\frac{s(x, y)}{R} \\right) \\right]\n",
    "$$"
   ]
  },
  {
   "cell_type": "code",
   "execution_count": 19,
   "metadata": {},
   "outputs": [],
   "source": [
    "def sauvola(img, n=5, R=128, k=0.5):\n",
    "    \n",
    "    dx, dy = img.shape\n",
    "    imgN = np.copy(img)\n",
    "\n",
    "    r = (n - 1) // 2\n",
    "\n",
    "    for i in range(r, dx - r):\n",
    "        for j in range(r, dy - r):\n",
    "\n",
    "            block = img[i - r:i + r + 1, j - r:j + r + 1]\n",
    "\n",
    "            rBmn = np.mean(block)\n",
    "            rBstd = np.std(block)\n",
    "\n",
    "            rBTH = rBmn * (1 - k * (1 - (rBstd / R)))\n",
    "            if (img[i,j] < rBTH):\n",
    "                imgN[i,j] = 0\n",
    "            else:\n",
    "                imgN[i,j] = 255\n",
    "\n",
    "    return imgN\n"
   ]
  },
  {
   "cell_type": "markdown",
   "metadata": {},
   "source": [
    "### Сhristian threshold"
   ]
  },
  {
   "cell_type": "code",
   "execution_count": 20,
   "metadata": {},
   "outputs": [],
   "source": [
    "\n",
    "def christian(img, n=5, k=0.5):\n",
    "\n",
    "    dx, dy = img.shape\n",
    "    imgN = np.copy(img)\n",
    "\n",
    "    M = np.min(img)\n",
    "    R = 0  \n",
    "    \n",
    "    for x in range(n // 2, dx - n // 2):\n",
    "        for y in range(n // 2, dy - n // 2):\n",
    "\n",
    "            block = img[x - (n // 2): x + (n // 2) + 1, y - (n // 2): y + (n // 2) + 1]\n",
    "\n",
    "            block_std = np.std(block)\n",
    "   \n",
    "            if block_std > R:\n",
    "                R = block_std\n",
    "\n",
    "    r = (n - 1) // 2\n",
    "\n",
    "    for i in range(r, dx - r):\n",
    "        for j in range(r, dy - r):\n",
    "\n",
    "            block = img[i - r:i + r + 1, j - r:j + r + 1]\n",
    "\n",
    "            rBmn = np.mean(block)\n",
    "            rBstd = np.std(block)\n",
    "\n",
    "            rBTH = (1 - k) * rBmn + k * M + k * (rBstd / R) * (rBmn - M)\n",
    " \n",
    "            if img[i, j] < rBTH:\n",
    "                imgN[i, j] = 0\n",
    "            else:\n",
    "                imgN[i, j] = 255\n",
    "\n",
    "    return imgN\n"
   ]
  },
  {
   "cell_type": "markdown",
   "metadata": {},
   "source": [
    "## Prepare to lab"
   ]
  },
  {
   "cell_type": "code",
   "execution_count": 21,
   "metadata": {},
   "outputs": [],
   "source": [
    "filepath = \"before_3/text_foto_lab1.png\"\n",
    "# filepath = \"before/lab1_foto2.png\"\n",
    "# filepath = \"before/img_11.png\"\n",
    "# filepath = \"before/img_22.png\"\n"
   ]
  },
  {
   "cell_type": "code",
   "execution_count": 22,
   "metadata": {},
   "outputs": [],
   "source": [
    "def resize_rith_pad(image: np.array, ner_shape: Tuple[int, int], padding_color: Tuple[int] = (255, 255, 255)) -> np.array:\n",
    "      original_shape = (image.shape[1], image.shape[0])\n",
    "      ratio = float(max(ner_shape))/max(original_shape)\n",
    "      ner_size = tuple([int(x*ratio) for x in original_shape])\n",
    "  \n",
    "      if ner_size[0] > ner_shape[0] or ner_size[1] > ner_shape[1]:\n",
    "          ratio = float(min(ner_shape)) / min(original_shape)\n",
    "          ner_size = tuple([int(x * ratio) for x in original_shape])\n",
    "  \n",
    "      image = cv2.resize(image, ner_size)\n",
    "      delta_r = ner_shape[0] - ner_size[0]\n",
    "      delta_h = ner_shape[1] - ner_size[1]\n",
    "      top, bottom = delta_h//2, delta_h-(delta_h//2)\n",
    "      left, right = delta_r//2, delta_r-(delta_r//2)\n",
    "  \n",
    "      image = cv2.copyMakeBorder(image, top, bottom, left, right, cv2.BORDER_CONSTANT,None,value=padding_color)\n",
    "      return image # rill be use in the future)) "
   ]
  },
  {
   "cell_type": "code",
   "execution_count": 23,
   "metadata": {},
   "outputs": [],
   "source": [
    "# image = cv2.imread(filepath)\n",
    "# image = resize_rith_pad(image, (256, 256))\n",
    "    \n",
    "# cv2.imshor(\"Padded image\", image)\n",
    "# cv2.raitKey()"
   ]
  },
  {
   "cell_type": "markdown",
   "metadata": {},
   "source": [
    "## Result"
   ]
  },
  {
   "cell_type": "code",
   "execution_count": 24,
   "metadata": {},
   "outputs": [
    {
     "data": {
      "text/plain": [
       "True"
      ]
     },
     "execution_count": 24,
     "metadata": {},
     "output_type": "execute_result"
    }
   ],
   "source": [
    "img = cv2.imread(filepath, cv2.IMREAD_GRAYSCALE)\n",
    "\n",
    "niblack_img = niblack(img,-0.2,5)\n",
    "cv2.imwrite('niblack_img.png', niblack_img)\n",
    "\n",
    "sauvola_img= sauvola(img)\n",
    "cv2.imwrite('sauvola_img.png', sauvola_img)\n",
    "\n",
    "christian_img = christian(img, )\n",
    "cv2.imwrite('christian_img.png', christian_img)"
   ]
  },
  {
   "cell_type": "code",
   "execution_count": 25,
   "metadata": {},
   "outputs": [],
   "source": [
    "def result():\n",
    "    directory = './before_3/'\n",
    "    dir_2 = \"./lab_3_result/\"\n",
    "    filenames = os.listdir(directory)\n",
    "\n",
    "    for filename in filenames:\n",
    "        print(filename)\n",
    "        \n",
    "        filepath = directory +filename\n",
    "        # print(filepath)\n",
    "\n",
    "        img = cv2.imread(filepath, cv2.IMREAD_GRAYSCALE)\n",
    "\n",
    "        niblack_img = niblack(img, -0.2)\n",
    "        cv2.imwrite(os.path.join(dir_2, f'niblack_img_{filename}.png'), niblack_img)\n",
    "\n",
    "        sauvola_img = sauvola(img)\n",
    "        cv2.imwrite(os.path.join(dir_2, f'sauvola_img_{filename}.png'), sauvola_img)\n",
    "\n",
    "        christian_img = christian(img)\n",
    "        cv2.imwrite(os.path.join(dir_2, f'christian_img_{filename}.png'), christian_img)\n",
    "\n",
    "\n",
    "\n"
   ]
  },
  {
   "cell_type": "code",
   "execution_count": 26,
   "metadata": {},
   "outputs": [
    {
     "name": "stdout",
     "output_type": "stream",
     "text": [
      "lab1_foto2.png\n",
      "img_11.png\n",
      "text_foto_lab1.png\n",
      "img_22.png\n"
     ]
    },
    {
     "ename": "KeyboardInterrupt",
     "evalue": "",
     "output_type": "error",
     "traceback": [
      "\u001b[0;31m---------------------------------------------------------------------------\u001b[0m",
      "\u001b[0;31mKeyboardInterrupt\u001b[0m                         Traceback (most recent call last)",
      "Cell \u001b[0;32mIn[26], line 1\u001b[0m\n\u001b[0;32m----> 1\u001b[0m result()\n",
      "Cell \u001b[0;32mIn[25], line 17\u001b[0m, in \u001b[0;36mresult\u001b[0;34m()\u001b[0m\n\u001b[1;32m     14\u001b[0m niblack_img \u001b[39m=\u001b[39m niblack(img, \u001b[39m-\u001b[39m\u001b[39m0.2\u001b[39m)\n\u001b[1;32m     15\u001b[0m cv2\u001b[39m.\u001b[39mimwrite(os\u001b[39m.\u001b[39mpath\u001b[39m.\u001b[39mjoin(dir_2, \u001b[39mf\u001b[39m\u001b[39m'\u001b[39m\u001b[39mniblack_img_\u001b[39m\u001b[39m{\u001b[39;00mfilename\u001b[39m}\u001b[39;00m\u001b[39m.png\u001b[39m\u001b[39m'\u001b[39m), niblack_img)\n\u001b[0;32m---> 17\u001b[0m sauvola_img \u001b[39m=\u001b[39m sauvola(img)\n\u001b[1;32m     18\u001b[0m cv2\u001b[39m.\u001b[39mimwrite(os\u001b[39m.\u001b[39mpath\u001b[39m.\u001b[39mjoin(dir_2, \u001b[39mf\u001b[39m\u001b[39m'\u001b[39m\u001b[39msauvola_img_\u001b[39m\u001b[39m{\u001b[39;00mfilename\u001b[39m}\u001b[39;00m\u001b[39m.png\u001b[39m\u001b[39m'\u001b[39m), sauvola_img)\n\u001b[1;32m     20\u001b[0m christian_img \u001b[39m=\u001b[39m christian(img)\n",
      "Cell \u001b[0;32mIn[19], line 13\u001b[0m, in \u001b[0;36msauvola\u001b[0;34m(img, n, R, k)\u001b[0m\n\u001b[1;32m      9\u001b[0m \u001b[39mfor\u001b[39;00m j \u001b[39min\u001b[39;00m \u001b[39mrange\u001b[39m(r, dy \u001b[39m-\u001b[39m r):\n\u001b[1;32m     11\u001b[0m     block \u001b[39m=\u001b[39m img[i \u001b[39m-\u001b[39m r:i \u001b[39m+\u001b[39m r \u001b[39m+\u001b[39m \u001b[39m1\u001b[39m, j \u001b[39m-\u001b[39m r:j \u001b[39m+\u001b[39m r \u001b[39m+\u001b[39m \u001b[39m1\u001b[39m]\n\u001b[0;32m---> 13\u001b[0m     rBmn \u001b[39m=\u001b[39m np\u001b[39m.\u001b[39;49mmean(block)\n\u001b[1;32m     14\u001b[0m     rBstd \u001b[39m=\u001b[39m np\u001b[39m.\u001b[39mstd(block)\n\u001b[1;32m     16\u001b[0m     rBTH \u001b[39m=\u001b[39m rBmn \u001b[39m*\u001b[39m (\u001b[39m1\u001b[39m \u001b[39m-\u001b[39m k \u001b[39m*\u001b[39m (\u001b[39m1\u001b[39m \u001b[39m-\u001b[39m (rBstd \u001b[39m/\u001b[39m R)))\n",
      "File \u001b[0;32m/Library/Frameworks/Python.framework/Versions/3.11/lib/python3.11/site-packages/numpy/_core/fromnumeric.py:3904\u001b[0m, in \u001b[0;36mmean\u001b[0;34m(a, axis, dtype, out, keepdims, where)\u001b[0m\n\u001b[1;32m   3901\u001b[0m     \u001b[39melse\u001b[39;00m:\n\u001b[1;32m   3902\u001b[0m         \u001b[39mreturn\u001b[39;00m mean(axis\u001b[39m=\u001b[39maxis, dtype\u001b[39m=\u001b[39mdtype, out\u001b[39m=\u001b[39mout, \u001b[39m*\u001b[39m\u001b[39m*\u001b[39mkwargs)\n\u001b[0;32m-> 3904\u001b[0m \u001b[39mreturn\u001b[39;00m _methods\u001b[39m.\u001b[39;49m_mean(a, axis\u001b[39m=\u001b[39;49maxis, dtype\u001b[39m=\u001b[39;49mdtype,\n\u001b[1;32m   3905\u001b[0m                       out\u001b[39m=\u001b[39;49mout, \u001b[39m*\u001b[39;49m\u001b[39m*\u001b[39;49mkwargs)\n",
      "File \u001b[0;32m/Library/Frameworks/Python.framework/Versions/3.11/lib/python3.11/site-packages/numpy/_core/_methods.py:119\u001b[0m, in \u001b[0;36m_mean\u001b[0;34m(a, axis, dtype, out, keepdims, where)\u001b[0m\n\u001b[1;32m    116\u001b[0m     \u001b[39melse\u001b[39;00m:\n\u001b[1;32m    117\u001b[0m         \u001b[39mreturn\u001b[39;00m um\u001b[39m.\u001b[39mclip(a, \u001b[39mmin\u001b[39m, \u001b[39mmax\u001b[39m, out\u001b[39m=\u001b[39mout, \u001b[39m*\u001b[39m\u001b[39m*\u001b[39mkwargs)\n\u001b[0;32m--> 119\u001b[0m \u001b[39mdef\u001b[39;00m \u001b[39m_mean\u001b[39m(a, axis\u001b[39m=\u001b[39m\u001b[39mNone\u001b[39;00m, dtype\u001b[39m=\u001b[39m\u001b[39mNone\u001b[39;00m, out\u001b[39m=\u001b[39m\u001b[39mNone\u001b[39;00m, keepdims\u001b[39m=\u001b[39m\u001b[39mFalse\u001b[39;00m, \u001b[39m*\u001b[39m, where\u001b[39m=\u001b[39m\u001b[39mTrue\u001b[39;00m):\n\u001b[1;32m    120\u001b[0m     arr \u001b[39m=\u001b[39m asanyarray(a)\n\u001b[1;32m    122\u001b[0m     is_float16_result \u001b[39m=\u001b[39m \u001b[39mFalse\u001b[39;00m\n",
      "\u001b[0;31mKeyboardInterrupt\u001b[0m: "
     ]
    }
   ],
   "source": [
    "result()"
   ]
  }
 ],
 "metadata": {
  "kernelspec": {
   "display_name": "Python 3",
   "language": "python",
   "name": "python3"
  },
  "language_info": {
   "codemirror_mode": {
    "name": "ipython",
    "version": 3
   },
   "file_extension": ".py",
   "mimetype": "text/x-python",
   "name": "python",
   "nbconvert_exporter": "python",
   "pygments_lexer": "ipython3",
   "version": "3.11.4"
  },
  "orig_nbformat": 4
 },
 "nbformat": 4,
 "nbformat_minor": 2
}
