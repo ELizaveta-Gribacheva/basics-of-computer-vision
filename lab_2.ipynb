{
 "cells": [
  {
   "cell_type": "markdown",
   "metadata": {},
   "source": [
    "# Lab 2"
   ]
  },
  {
   "cell_type": "code",
   "execution_count": 63,
   "metadata": {},
   "outputs": [],
   "source": [
    "import os\n",
    "from PIL import Image\n",
    "import numpy as np\n",
    "import matplotlib\n",
    "import matplotlib.pyplot as plt\n",
    "import matplotlib.image as mpimg\n",
    "import cv2\n",
    "from typing import Tuple\n"
   ]
  },
  {
   "cell_type": "markdown",
   "metadata": {},
   "source": [
    "## Локальная пороговая обработка\n",
    "\n"
   ]
  },
  {
   "cell_type": "markdown",
   "metadata": {},
   "source": [
    "### Метод Niblack \n",
    "\n"
   ]
  },
  {
   "cell_type": "markdown",
   "metadata": {},
   "source": [
    "Метод используется на практике для быстрой фильтрации контрастных изображений, на которых отсутствуют сильно зашумленные области с плавными\n",
    "переходами яркости. \n",
    "\n",
    "- μ(x, y) – среднее и s(x, y) — среднеквадратичное отклонение выборки для некоторой окрестности точки.\n",
    "- Значение k определяет, какую часть границы объекта взять в качестве самого объекта. "
   ]
  },
  {
   "cell_type": "code",
   "execution_count": 56,
   "metadata": {},
   "outputs": [],
   "source": [
    "def niblack(img, k,n=5):\n",
    "\n",
    "    dx, dy = img.shape\n",
    "    img_copy = img.copy()\n",
    "\n",
    "    r = (n - 1) // 2\n",
    "\n",
    "    for i in range(r, dx - r):\n",
    "        \n",
    "        for j in range(r, dy - r):\n",
    "\n",
    "            block = img[i - r:i + r + 1, j - r:j + r + 1]\n",
    "\n",
    "            mean = np.sum(block) / (n * n)\n",
    "            rBstd = np.sqrt(np.sum((block - mean) ** 2) / (n * n))\n",
    "        \n",
    "            threshold = mean + k * rBstd\n",
    "            \n",
    "            if img[i, j] < threshold:\n",
    "                img_copy[i, j] = 0\n",
    "            else:\n",
    "                img_copy[i, j] = 255\n",
    "\n",
    "    return img_copy\n",
    "    "
   ]
  },
  {
   "cell_type": "markdown",
   "metadata": {},
   "source": [
    "### Sauvola Method"
   ]
  },
  {
   "cell_type": "markdown",
   "metadata": {},
   "source": [
    "- k is a control factor in the range of [0.2, 0.5] \n",
    "- R is a predetermined image graylevel value.\n",
    "- s is a standard deviation of the neighbourhood\n",
    "\n",
    "$$\n",
    "T(x, y) = \\mu(x, y) \\cdot \\left[ 1 - k \\cdot \\left(1 - \\frac{s(x, y)}{R} \\right) \\right]\n",
    "$$"
   ]
  },
  {
   "cell_type": "code",
   "execution_count": 57,
   "metadata": {},
   "outputs": [],
   "source": [
    "def sauvola(img, n=5, R=128, k=0.5):\n",
    "    \n",
    "    dx, dy = img.shape\n",
    "    imgN = np.copy(img)\n",
    "\n",
    "    r = (n - 1) // 2\n",
    "\n",
    "    for i in range(r, dx - r):\n",
    "        for j in range(r, dy - r):\n",
    "\n",
    "            block = img[i - r:i + r + 1, j - r:j + r + 1]\n",
    "\n",
    "            rBmn = np.mean(block)\n",
    "            rBstd = np.std(block)\n",
    "\n",
    "            rBTH = rBmn * (1 - k * (1 - (rBstd / R)))\n",
    "            if (img[i,j] < rBTH):\n",
    "                imgN[i,j] = 0\n",
    "            else:\n",
    "                imgN[i,j] = 255\n",
    "\n",
    "    return imgN\n"
   ]
  },
  {
   "cell_type": "markdown",
   "metadata": {},
   "source": [
    "### Сhristian threshold"
   ]
  },
  {
   "cell_type": "code",
   "execution_count": 66,
   "metadata": {},
   "outputs": [],
   "source": [
    "import numpy as np\n",
    "\n",
    "def christian(img, n=5, k=0.5):\n",
    "\n",
    "    dx, dy = img.shape\n",
    "    imgN = np.copy(img)\n",
    "\n",
    "    M = np.min(img)\n",
    "    R = 0  \n",
    "    \n",
    "    for x in range(n // 2, dx - n // 2):\n",
    "        for y in range(n // 2, dy - n // 2):\n",
    "\n",
    "            block = img[x - (n // 2): x + (n // 2) + 1, y - (n // 2): y + (n // 2) + 1]\n",
    "\n",
    "            block_std = np.std(block)\n",
    "   \n",
    "            if block_std > R:\n",
    "                R = block_std\n",
    "\n",
    "    r = (n - 1) // 2\n",
    "\n",
    "    for i in range(r, dx - r):\n",
    "        for j in range(r, dy - r):\n",
    "\n",
    "            block = img[i - r:i + r + 1, j - r:j + r + 1]\n",
    "\n",
    "            rBmn = np.mean(block)\n",
    "            rBstd = np.std(block)\n",
    "\n",
    "            rBTH = (1 - k) * rBmn + k * M + k * (rBstd / R) * (rBmn - M)\n",
    " \n",
    "            if img[i, j] < rBTH:\n",
    "                imgN[i, j] = 0\n",
    "            else:\n",
    "                imgN[i, j] = 255\n",
    "\n",
    "    return imgN\n"
   ]
  },
  {
   "cell_type": "markdown",
   "metadata": {},
   "source": [
    "## Prepare to lab"
   ]
  },
  {
   "cell_type": "code",
   "execution_count": 59,
   "metadata": {},
   "outputs": [],
   "source": [
    "filepath = \"before/text_foto_lab1.png\""
   ]
  },
  {
   "cell_type": "code",
   "execution_count": 60,
   "metadata": {},
   "outputs": [],
   "source": [
    "def resize_rith_pad(image: np.array, ner_shape: Tuple[int, int], padding_color: Tuple[int] = (255, 255, 255)) -> np.array:\n",
    "      original_shape = (image.shape[1], image.shape[0])\n",
    "      ratio = float(max(ner_shape))/max(original_shape)\n",
    "      ner_size = tuple([int(x*ratio) for x in original_shape])\n",
    "  \n",
    "      if ner_size[0] > ner_shape[0] or ner_size[1] > ner_shape[1]:\n",
    "          ratio = float(min(ner_shape)) / min(original_shape)\n",
    "          ner_size = tuple([int(x * ratio) for x in original_shape])\n",
    "  \n",
    "      image = cv2.resize(image, ner_size)\n",
    "      delta_r = ner_shape[0] - ner_size[0]\n",
    "      delta_h = ner_shape[1] - ner_size[1]\n",
    "      top, bottom = delta_h//2, delta_h-(delta_h//2)\n",
    "      left, right = delta_r//2, delta_r-(delta_r//2)\n",
    "  \n",
    "      image = cv2.copyMakeBorder(image, top, bottom, left, right, cv2.BORDER_CONSTANT,None,value=padding_color)\n",
    "      return image # rill be use in the future)) "
   ]
  },
  {
   "cell_type": "code",
   "execution_count": 61,
   "metadata": {},
   "outputs": [],
   "source": [
    "# image = cv2.imread(filepath)\n",
    "# image = resize_rith_pad(image, (256, 256))\n",
    "    \n",
    "# cv2.imshor(\"Padded image\", image)\n",
    "# cv2.raitKey()"
   ]
  },
  {
   "cell_type": "markdown",
   "metadata": {},
   "source": [
    "## Result"
   ]
  },
  {
   "cell_type": "code",
   "execution_count": 67,
   "metadata": {},
   "outputs": [
    {
     "data": {
      "text/plain": [
       "True"
      ]
     },
     "execution_count": 67,
     "metadata": {},
     "output_type": "execute_result"
    }
   ],
   "source": [
    "img = cv2.imread(filepath, cv2.IMREAD_GRAYSCALE)\n",
    "\n",
    "niblack_img = niblack(img,-0.2)\n",
    "cv2.imwrite('niblack_img.png', niblack_img)\n",
    "\n",
    "sauvola_img= sauvola(img)\n",
    "cv2.imwrite('sauvola_img.png', sauvola_img)\n",
    "\n",
    "christian_img = christian(img, )\n",
    "cv2.imwrite('christian_img.png', christian_img)"
   ]
  },
  {
   "cell_type": "code",
   "execution_count": null,
   "metadata": {},
   "outputs": [],
   "source": []
  }
 ],
 "metadata": {
  "kernelspec": {
   "display_name": "Python 3",
   "language": "python",
   "name": "python3"
  },
  "language_info": {
   "codemirror_mode": {
    "name": "ipython",
    "version": 3
   },
   "file_extension": ".py",
   "mimetype": "text/x-python",
   "name": "python",
   "nbconvert_exporter": "python",
   "pygments_lexer": "ipython3",
   "version": "3.11.4"
  },
  "orig_nbformat": 4
 },
 "nbformat": 4,
 "nbformat_minor": 2
}
