{
 "cells": [
  {
   "cell_type": "markdown",
   "metadata": {},
   "source": [
    "# Lab 3"
   ]
  },
  {
   "cell_type": "markdown",
   "metadata": {},
   "source": [
    "Написати програмну реалiзацiю алгоритму лiнiйної фiльтрацiї зображень згорткою. Навести результати роботи вашої програми для наступних фiльтрiв:"
   ]
  },
  {
   "cell_type": "markdown",
   "metadata": {},
   "source": [
    "- згортка зображень - це процес додавання кожного елемента зображення до його сусідів, зважених ядром. Важливо зауважити, що виконувана матрична операція - згортка - це не звичайне множення, хоча й позначається *.\n",
    "- згортка - це процес транспонування рядків і стовпчиків ядра з наступним множенням і додаванням."
   ]
  },
  {
   "cell_type": "code",
   "execution_count": 22,
   "metadata": {},
   "outputs": [],
   "source": [
    "import cv2\n",
    "import numpy as np\n",
    "import os\n",
    "import matplotlib.pyplot as plt\n"
   ]
  },
  {
   "cell_type": "code",
   "execution_count": 23,
   "metadata": {},
   "outputs": [],
   "source": [
    "file_path = \"before_3/lab1_foto2.png\"\n",
    "img = cv2.imread(file_path)\n",
    "\n",
    "data = np.array(img)\n",
    "data_list = img.tolist()"
   ]
  },
  {
   "cell_type": "code",
   "execution_count": 24,
   "metadata": {},
   "outputs": [],
   "source": [
    "def apply_filter(image, kernel):\n",
    "    image = np.array(image, dtype=np.float32)\n",
    "    kernel = np.flip(kernel)  \n",
    "    pad_h, pad_w = kernel.shape[0] // 2, kernel.shape[1] // 2\n",
    "    padded_image = np.pad(image, ((pad_h, pad_h), (pad_w, pad_w)), mode='reflect')\n",
    "    result = np.zeros_like(image)\n",
    "\n",
    "    for i in range(image.shape[0]):\n",
    "        for j in range(image.shape[1]):\n",
    "            region = padded_image[i:i + kernel.shape[0], j:j + kernel.shape[1]]\n",
    "            result[i, j] = np.sum(region * kernel)\n",
    "\n",
    "    return np.clip(result, 0, 255).astype(np.uint8)"
   ]
  },
  {
   "cell_type": "markdown",
   "metadata": {},
   "source": [
    "#### Shifting\n",
    "\n",
    "Зсув зображення на 10 пiкселiв вправо та 20 вниз."
   ]
  },
  {
   "cell_type": "code",
   "execution_count": 25,
   "metadata": {},
   "outputs": [],
   "source": [
    "def moving(data):\n",
    "    a = 10\n",
    "    b = 20\n",
    "    result = np.zeros(data.shape, dtype=np.uint8)\n",
    "\n",
    "    for y in range(data.shape[0]):\n",
    "        for x in range(data.shape[1]):\n",
    "            X_plus = x + a\n",
    "            Y_plus = y + b\n",
    "            if 0 <= X_plus < data.shape[1] and 0 <= Y_plus < data.shape[0]:\n",
    "                result[Y_plus, X_plus] = data[y, x]\n",
    "    return result\n"
   ]
  },
  {
   "cell_type": "code",
   "execution_count": 26,
   "metadata": {},
   "outputs": [],
   "source": [
    "def moving_1(data):\n",
    "    a = 10\n",
    "    b = 20\n",
    "    result = np.zeros_like(data)\n",
    "    result[max(0, a):, max(0, b):] = data[:data.shape[0]-a, :data.shape[1]-b]\n",
    "    return result"
   ]
  },
  {
   "cell_type": "code",
   "execution_count": 27,
   "metadata": {},
   "outputs": [
    {
     "data": {
      "text/plain": [
       "True"
      ]
     },
     "execution_count": 27,
     "metadata": {},
     "output_type": "execute_result"
    }
   ],
   "source": [
    "img_shift_2 = moving_1(img)\n",
    "cv2.imwrite('./lab_3_foto/shifted_2_image.png', img_shift_2)"
   ]
  },
  {
   "cell_type": "code",
   "execution_count": 28,
   "metadata": {},
   "outputs": [
    {
     "data": {
      "text/plain": [
       "True"
      ]
     },
     "execution_count": 28,
     "metadata": {},
     "output_type": "execute_result"
    }
   ],
   "source": [
    "img_shift = moving(data)\n",
    "cv2.imwrite('./lab_3_foto/shifted_image.png', img_shift)"
   ]
  },
  {
   "cell_type": "markdown",
   "metadata": {},
   "source": [
    "#### Inversion\n"
   ]
  },
  {
   "cell_type": "code",
   "execution_count": 29,
   "metadata": {},
   "outputs": [],
   "source": [
    "def inversion(data): # 3D list\n",
    "    return [[[255 - k for k in j] for j in i] for i in data]  #row i, column -j, pixel value - k"
   ]
  },
  {
   "cell_type": "code",
   "execution_count": 30,
   "metadata": {},
   "outputs": [],
   "source": [
    "def inversion_2(data):\n",
    "    return 255 - data"
   ]
  },
  {
   "cell_type": "code",
   "execution_count": 31,
   "metadata": {},
   "outputs": [],
   "source": [
    "def inversion_3(image):\n",
    "\n",
    "    kernel = np.array([[0, 0, 0], [0, -1, 0], [0, 0, 0]])  \n",
    "    kernel = np.flipud(np.fliplr(kernel)) \n",
    "\n",
    "\n",
    "    output = np.zeros_like(image, dtype=np.float64)\n",
    "    padded_image = np.pad(image, ((kernel.shape[0] // 2,), (kernel.shape[1] // 2,)), mode='constant', constant_values=0)\n",
    "\n",
    "    for i in range(image.shape[0]):\n",
    "        for j in range(image.shape[1]):\n",
    "            region = padded_image[i:i + kernel.shape[0], j:j + kernel.shape[1]]\n",
    "            output[i, j] = np.sum(region * kernel)\n",
    "\n",
    "    return output.astype(np.uint8)"
   ]
  },
  {
   "cell_type": "code",
   "execution_count": 32,
   "metadata": {},
   "outputs": [
    {
     "data": {
      "text/plain": [
       "True"
      ]
     },
     "execution_count": 32,
     "metadata": {},
     "output_type": "execute_result"
    }
   ],
   "source": [
    "img_inverion = inversion(data_list)\n",
    "img_inverion = np.array(img_inverion, dtype=np.uint8)\n",
    "cv2.imwrite('./lab_3_foto/img_inverion.png', img_inverion)\n",
    "\n",
    "img_inversion_2 = inversion_2(data)\n",
    "cv2.imwrite('./lab_3_foto/img_inverion_2.png', img_inversion_2)\n",
    "\n",
    "image = cv2.imread(file_path, cv2.IMREAD_GRAYSCALE) \n",
    "\n",
    "img_inversion_3 = inversion_3(image)\n",
    "cv2.imwrite('./lab_3_foto/img_inversion_3.png', img_inversion_3)\n"
   ]
  },
  {
   "cell_type": "markdown",
   "metadata": {},
   "source": [
    "#### Gaussian smoothing"
   ]
  },
  {
   "cell_type": "markdown",
   "metadata": {},
   "source": [
    "Gaussian density function - func dnirm (density norm) is used to calculate a Gaussian distibution\n",
    "\n",
    "$$ \\text{PDF}(x) = \\frac{1}{\\sigma \\sqrt{2\\pi}} e^{-\\frac{(x - \\mu)^2}{2\\sigma^2}} $$\n",
    "\n",
    "- x is the input value \n",
    "\n",
    "- μ is the mean \n",
    "\n",
    "- σ is the standard deviation, which controls the \"spread\" of the Gaussian function.\n",
    "\n",
    " Each element in the kernel represents the influence of that pixel on the center pixel, with closer pixels having a greater influence (higher weight) compared to those farther away.\n",
    "\n",
    "одномерное ядро гауссового ядра (для смягчения краев и уменьшений шума, плавный переход цветов) для равноудаленных точек от центра\n",
    "сума всех значений в этом ядре = 1 => нормализация"
   ]
  },
  {
   "cell_type": "code",
   "execution_count": 33,
   "metadata": {},
   "outputs": [],
   "source": [
    "def dnorm(x, mean=0, std_dev=1):\n",
    "    return (1 / (std_dev * np.sqrt(2 * np.pi))) * np.exp(-0.5 * ((x - mean) / std_dev) ** 2)\n",
    "\n",
    "def gaussian_kernel(size, sigma=1, verbose=True):\n",
    "    \n",
    "    kernel_1D = np.linspace(-(size // 2), size // 2, size)\n",
    "    for i in range(size):\n",
    "        kernel_1D[i] = dnorm(kernel_1D[i], 0, sigma)\n",
    "    \n",
    "    kernel_2D = np.outer(kernel_1D.T, kernel_1D.T)\n",
    "    kernel_2D /= kernel_2D.sum()  \n",
    "\n",
    "    if verbose:\n",
    "        plt.imshow(kernel_2D, interpolation='none', cmap='gray')\n",
    "        plt.title(\"Gaussian Kernel\")\n",
    "        plt.colorbar()\n",
    "        plt.show()\n",
    "    return kernel_2D\n",
    "\n",
    "def gaussian(image, kernel_s, sigma=1):\n",
    "\n",
    "    kernel = gaussian_kernel(kernel_s, sigma)\n",
    "    pad_size = kernel_s // 2  # свертка без выходя за предел массивааа\n",
    "    \n",
    "    result = np.zeros_like(image)\n",
    "\n",
    "    for channel in range(image.shape[2]): \n",
    "        img_w_padd = np.pad(image[..., channel], ((pad_size, pad_size), (pad_size, pad_size)), mode='constant')\n",
    "        \n",
    "        for i in range(image.shape[0]):\n",
    "            for j in range(image.shape[1]):\n",
    "                region = img_w_padd[i:i + kernel_s, j:j + kernel_s]\n",
    "                result[i, j, channel] = np.sum(region * kernel)\n",
    "\n",
    "    return result"
   ]
  },
  {
   "cell_type": "code",
   "execution_count": 34,
   "metadata": {},
   "outputs": [],
   "source": [
    "def gaussian_2(image, kernel_size, sigma):\n",
    "    return cv2.GaussianBlur(image, (kernel_size, kernel_size), sigma)"
   ]
  },
  {
   "cell_type": "code",
   "execution_count": 35,
   "metadata": {},
   "outputs": [
    {
     "data": {
      "text/plain": [
       "True"
      ]
     },
     "execution_count": 35,
     "metadata": {},
     "output_type": "execute_result"
    }
   ],
   "source": [
    "gaussian_img_2 = gaussian_2(img, 11, sigma=1)\n",
    "cv2.imwrite('./lab_3_foto/img_2_gaussian.png', gaussian_img_2)"
   ]
  },
  {
   "cell_type": "code",
   "execution_count": 36,
   "metadata": {},
   "outputs": [
    {
     "data": {
      "image/png": "[encoded data removed]",
      "text/plain": [
       "<Figure size 640x480 with 2 Axes>"
      ]
     },
     "metadata": {},
     "output_type": "display_data"
    },
    {
     "data": {
      "text/plain": [
       "True"
      ]
     },
     "execution_count": 36,
     "metadata": {},
     "output_type": "execute_result"
    }
   ],
   "source": [
    "gaussian_img = gaussian(img, 11, sigma=1)\n",
    "cv2.imwrite('./lab_3_foto/img_gaussian.png', gaussian_img)"
   ]
  },
  {
   "cell_type": "markdown",
   "metadata": {},
   "source": [
    "#### Diagonal motion blur\n",
    "\n",
    "(розмiр фiльтра не менше 7х7).\n",
    "\n",
    "The motion blur kernel averages image pixels along the direction of motion that we would like to blur."
   ]
  },
  {
   "cell_type": "code",
   "execution_count": 37,
   "metadata": {},
   "outputs": [],
   "source": [
    "def diagonal_kernel(size):\n",
    "    kernel = np.zeros((size, size), dtype=np.float32)\n",
    "    for i in range(size):\n",
    "        kernel[i, i] = 1.0  \n",
    "    return kernel / size  \n",
    "\n",
    "def diagonal_motion(image, kernel_size):\n",
    "    \n",
    "    kernel = diagonal_kernel(kernel_size)\n",
    "    pad_size = kernel_size // 2\n",
    "    blurred_image = np.zeros_like(image)\n",
    "\n",
    "    for channel in range(image.shape[2]):  \n",
    "        padded_image = np.pad(image[..., channel], ((pad_size, pad_size), (pad_size, pad_size)), mode='constant')\n",
    "        \n",
    "        for i in range(image.shape[0]):\n",
    "            for j in range(image.shape[1]):\n",
    "                region = padded_image[i:i + kernel_size, j:j + kernel_size]\n",
    "                blurred_image[i, j, channel] = np.sum(region * kernel)\n",
    "\n",
    "    return blurred_image\n"
   ]
  },
  {
   "cell_type": "code",
   "execution_count": 38,
   "metadata": {},
   "outputs": [],
   "source": [
    "def diagonal_motion_2(img, size=7):\n",
    "    kernel = np.eye(size) / size\n",
    "    return cv2.filter2D(img, -1, kernel)"
   ]
  },
  {
   "cell_type": "code",
   "execution_count": 39,
   "metadata": {},
   "outputs": [
    {
     "data": {
      "text/plain": [
       "True"
      ]
     },
     "execution_count": 39,
     "metadata": {},
     "output_type": "execute_result"
    }
   ],
   "source": [
    "img_diagonal_motion_2 = diagonal_motion_2(img, 8)\n",
    "cv2.imwrite('./lab_3_foto/img_2_diagonal_motion.png', img_diagonal_motion_2)"
   ]
  },
  {
   "cell_type": "code",
   "execution_count": 40,
   "metadata": {},
   "outputs": [
    {
     "data": {
      "text/plain": [
       "True"
      ]
     },
     "execution_count": 40,
     "metadata": {},
     "output_type": "execute_result"
    }
   ],
   "source": [
    "img_diagonal_motion = diagonal_motion(img, 8)\n",
    "cv2.imwrite('./lab_3_foto/img_diagonal_motion.png', img_diagonal_motion)"
   ]
  },
  {
   "cell_type": "markdown",
   "metadata": {},
   "source": [
    "#### Sharpening"
   ]
  },
  {
   "cell_type": "code",
   "execution_count": 41,
   "metadata": {},
   "outputs": [],
   "source": [
    "\n",
    "sharpen = np.array([[0, -1, 0],\n",
    "                [-1, 5, -1],\n",
    "                [0, -1, 0]])\n",
    "    \n",
    "def sharpening(image, kernel):\n",
    "    pad_size = kernel.shape[0] // 2\n",
    "    padded_image = np.pad(image, ((pad_size, pad_size), (pad_size, pad_size), (0, 0)), mode='constant')\n",
    "    convolved_image = np.zeros_like(image)\n",
    "\n",
    "    for i in range(image.shape[0]):\n",
    "        for j in range(image.shape[1]):\n",
    "            region = padded_image[i:i + kernel.shape[0], j:j + kernel.shape[1], :]\n",
    "            for c in range(3):  \n",
    "                convolved_image[i, j, c] = np.clip(np.sum(region[:, :, c] * kernel), 0, 255)\n",
    "\n",
    "    return convolved_image.astype(np.uint8)\n"
   ]
  },
  {
   "cell_type": "code",
   "execution_count": 42,
   "metadata": {},
   "outputs": [
    {
     "data": {
      "text/plain": [
       "True"
      ]
     },
     "execution_count": 42,
     "metadata": {},
     "output_type": "execute_result"
    }
   ],
   "source": [
    "sharpen_img = sharpening(img, sharpen)\n",
    "cv2.imwrite('./lab_3_foto/sharpen_img.png', sharpen_img)"
   ]
  },
  {
   "cell_type": "markdown",
   "metadata": {},
   "source": [
    "#### Sobel filter"
   ]
  },
  {
   "cell_type": "markdown",
   "metadata": {},
   "source": [
    "The Sobel Edge Detector is a convolution-based method used for edge detection in images. It employs convolution with Sobel kernels to approximate the gradient of the image intensity. Instead of 2x2 kernels(it is used in Roberts Cross Detector), Sobel utilizes two 3x3 convolution kernels for detecting changes in intensity in the horizontal and vertical directions.\n",
    "\n",
    "$$ \\text{Magnitude} = \\sqrt{(\\text{grad}_x)^2 + (\\text{grad}_y)^2} $$"
   ]
  },
  {
   "cell_type": "code",
   "execution_count": 43,
   "metadata": {},
   "outputs": [],
   "source": [
    "def sobel_filter(image):\n",
    "\n",
    "    gorizontal = np.array([[-1, 0, 1],\n",
    "                         [-2, 0, 2],\n",
    "                         [-1, 0, 1]])\n",
    "    \n",
    "    vertical = np.array([[1, 2, 1],\n",
    "                         [0, 0, 0],\n",
    "                         [-1, -2, -1]])\n",
    "\n",
    "    height, width, _ = image.shape\n",
    "    pad_size = 1\n",
    "    padded_image = np.pad(image, ((pad_size, pad_size), (pad_size, pad_size), (0, 0)), mode='constant')\n",
    "    \n",
    "    result = np.zeros((height, width, 3))\n",
    "\n",
    "    for c in range(3):  \n",
    "        for i in range(height):\n",
    "            for j in range(width):\n",
    "                \n",
    "                region = padded_image[i:i + 3, j:j + 3, c]\n",
    "                grad_x = np.sum(region * gorizontal)\n",
    "                grad_y = np.sum(region * vertical)\n",
    "                result[i, j, c] = np.clip(np.sqrt(grad_x**2 + grad_y**2), 0, 255)\n",
    "\n",
    "    return result.astype(np.uint8)"
   ]
  },
  {
   "cell_type": "code",
   "execution_count": 44,
   "metadata": {},
   "outputs": [
    {
     "data": {
      "text/plain": [
       "True"
      ]
     },
     "execution_count": 44,
     "metadata": {},
     "output_type": "execute_result"
    }
   ],
   "source": [
    "sobel_result = sobel_filter(img)\n",
    "\n",
    "# Save the result\n",
    "cv2.imwrite('./lab_3_foto/img_sobel.png', sobel_result)"
   ]
  },
  {
   "cell_type": "markdown",
   "metadata": {},
   "source": [
    "#### Borderi filter"
   ]
  },
  {
   "cell_type": "code",
   "execution_count": 45,
   "metadata": {},
   "outputs": [],
   "source": [
    "def borderi_f(image):\n",
    "\n",
    "    filter = np.array([[-1, -1, -1],\n",
    "                         [-1,  8, -1],\n",
    "                         [-1, -1, -1]])\n",
    "    \n",
    "    height, width, _ = image.shape\n",
    "    pad_size = 1\n",
    "    padded_image = np.pad(image, ((pad_size, pad_size), (pad_size, pad_size), (0, 0)), mode='constant')\n",
    "    \n",
    "    result = np.zeros_like(image)\n",
    "\n",
    "    for c in range(3):  \n",
    "        for i in range(height):\n",
    "            for j in range(width):\n",
    "\n",
    "                region = padded_image[i:i + 3, j:j + 3, c]\n",
    "                result[i, j, c] = np.clip(np.sum(region * filter), 0, 255)\n",
    "\n",
    "    return result.astype(np.uint8)"
   ]
  },
  {
   "cell_type": "code",
   "execution_count": 47,
   "metadata": {},
   "outputs": [
    {
     "data": {
      "text/plain": [
       "True"
      ]
     },
     "execution_count": 47,
     "metadata": {},
     "output_type": "execute_result"
    }
   ],
   "source": [
    "img_bord = borderi_f(img)\n",
    "cv2.imwrite('./lab_3_foto/img_bord.png', img_bord)"
   ]
  },
  {
   "cell_type": "markdown",
   "metadata": {},
   "source": [
    "#### Emboss filter"
   ]
  },
  {
   "cell_type": "code",
   "execution_count": 48,
   "metadata": {},
   "outputs": [],
   "source": [
    "def emboss_f(image):\n",
    "    matrix = np.array([[-1, -1, -1, -1,  0],\n",
    "                           [-1, -1, -1,  0,  1],\n",
    "                           [-1, -1,  0,  1,  1],\n",
    "                           [-1,  0,  1,  1,  1],\n",
    "                           [ 0,  1,  1,  1,  1]])\n",
    "    height, width, _ = image.shape\n",
    "    pad_size = matrix.shape[0] // 2\n",
    "\n",
    "    padded_image = np.pad(image, ((pad_size, pad_size), (pad_size, pad_size), (0, 0)), mode='constant')\n",
    "\n",
    "    filtered_image = np.zeros_like(image, dtype=np.float64)\n",
    "\n",
    "    for i in range(height):\n",
    "        \n",
    "        for j in range(width):\n",
    "            region = padded_image[i:i + 5, j:j + 5, :]\n",
    "            for c in range(3):  \n",
    "                filtered_image[i, j, c] = np.clip(np.sum(region[:, :, c] * matrix), 0, 255)\n",
    "\n",
    "    return filtered_image.astype(np.uint8)\n"
   ]
  },
  {
   "cell_type": "code",
   "execution_count": 49,
   "metadata": {},
   "outputs": [],
   "source": [
    "emboss_img = emboss_f(img)\n",
    "cv2.imwrite('./lab_3_foto/emboss_img.png', emboss_img)"
   ]
  },
  {
   "cell_type": "markdown",
   "metadata": {},
   "source": [
    "#### "
   ]
  }
 ],
 "metadata": {
  "kernelspec": {
   "display_name": "Python 3",
   "language": "python",
   "name": "python3"
  },
  "language_info": {
   "codemirror_mode": {
    "name": "ipython",
    "version": 3
   },
   "file_extension": ".py",
   "mimetype": "text/x-python",
   "name": "python",
   "nbconvert_exporter": "python",
   "pygments_lexer": "ipython3",
   "version": "3.11.4"
  },
  "orig_nbformat": 4
 },
 "nbformat": 4,
 "nbformat_minor": 2
}
