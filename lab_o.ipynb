{
 "cells": [
  {
   "cell_type": "markdown",
   "metadata": {},
   "source": [
    "# Lab 0\n",
    "\n",
    "## example"
   ]
  },
  {
   "cell_type": "code",
   "execution_count": 5,
   "metadata": {},
   "outputs": [],
   "source": [
    "import pandas as pd\n",
    "import urllib.request\n",
    "from datetime import datetime\n",
    "import os\n",
    "from os import walk\n",
    "from pathlib import Path\n",
    "import glob"
   ]
  },
  {
   "cell_type": "code",
   "execution_count": 7,
   "metadata": {},
   "outputs": [
    {
     "name": "stdout",
     "output_type": "stream",
     "text": [
      "File of this oblast exists: 1\n",
      "File of this oblast exists: 2\n",
      "File of this oblast exists: 3\n",
      "File of this oblast exists: 4\n",
      "File of this oblast exists: 5\n",
      "File of this oblast exists: 6\n",
      "File of this oblast exists: 7\n",
      "File of this oblast exists: 8\n",
      "File of this oblast exists: 9\n",
      "File of this oblast exists: 10\n",
      "File of this oblast exists: 11\n",
      "File of this oblast exists: 12\n",
      "File of this oblast exists: 13\n",
      "File of this oblast exists: 14\n",
      "File of this oblast exists: 15\n",
      "File of this oblast exists: 16\n",
      "File of this oblast exists: 17\n",
      "File of this oblast exists: 18\n",
      "File of this oblast exists: 19\n",
      "File of this oblast exists: 20\n",
      "File of this oblast exists: 21\n",
      "File of this oblast exists: 22\n",
      "File of this oblast exists: 23\n",
      "File of this oblast exists: 24\n",
      "File of this oblast exists: 25\n",
      "File of this oblast exists: 26\n",
      "File of this oblast exists: 27\n"
     ]
    }
   ],
   "source": [
    "\n",
    "directory = \"./NOAA_files\"\n",
    "\n",
    "if not Path(directory).is_dir():\n",
    "     os.mkdir(\"./NOAA_files\")\n",
    "     print(\"New directory created\")\n",
    "\n",
    "for i in range(1, 28):\n",
    "    name = \"NOAA_ID\" + str(i) + \"*\"\n",
    "    url = f'https://www.star.nesdis.noaa.gov/smcd/emb/vci/VH/get_TS_admin.php?country=UKR&provinceID={i}&year1=1981&year2=2024&type=Mean'\n",
    "\n",
    "    if glob.glob(os.path.join(directory, name)):\n",
    "        print(\"File of this oblast exists: \" + str(i))\n",
    "        continue\n",
    "\n",
    "    wp = urllib.request.urlopen(url)\n",
    "    text = wp.read()\n",
    "\n",
    "    now = datetime.now()\n",
    "    date_and_time = now.strftime(\"%d%m%Y%H%M%S\")\n",
    "\n",
    "    out = open(os.path.join(directory, 'NOAA_ID' + str(i) + '_' + date_and_time + '.csv'), 'wb')\n",
    "\n",
    "    out.write(text)\n",
    "    out.close()\n",
    "\n",
    "    print(f\"File saved to: {out.name}\")\n"
   ]
  }
 ],
 "metadata": {
  "kernelspec": {
   "display_name": "cv_venv",
   "language": "python",
   "name": "python3"
  },
  "language_info": {
   "codemirror_mode": {
    "name": "ipython",
    "version": 3
   },
   "file_extension": ".py",
   "mimetype": "text/x-python",
   "name": "python",
   "nbconvert_exporter": "python",
   "pygments_lexer": "ipython3",
   "version": "3.11.9"
  },
  "orig_nbformat": 4
 },
 "nbformat": 4,
 "nbformat_minor": 2
}
