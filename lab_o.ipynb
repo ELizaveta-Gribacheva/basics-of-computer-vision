{
 "cells": [
  {
   "cell_type": "markdown",
   "metadata": {},
   "source": [
    "# Lab 0\n",
    "\n",
    "## exemple"
   ]
  },
  {
   "cell_type": "code",
   "execution_count": null,
   "metadata": {},
   "outputs": [],
   "source": [
    "import pandas as pd\n",
    "import urllib.request\n",
    "from datetime import datetime\n",
    "import os\n",
    "from os import walk\n",
    "\n",
    "directory = \"./NOAA_files\"\n",
    "if not Path(directory).is_dir():\n",
    "     os.mkdir(\"./NOAA_files\")\n",
    "     print(\"New directory created\")\n",
    "\n",
    "for i in range(1, 28):\n",
    "    name = \"NOAA_ID\" + str(i) + \"*\"\n",
    "    url = f'https://www.star.nesdis.noaa.gov/smcd/emb/vci/VH/get_TS_admin.php?country=UKR&provinceID={i}&year1=1981&year2=2024&type=Mean'\n",
    "\n",
    "    if glob.glob(os.path.join(directory, name)):\n",
    "        print(\"File of this oblast exists: \" + str(i))\n",
    "        continue\n",
    "\n",
    "    wp = urllib.request.urlopen(url)\n",
    "    text = wp.read()\n",
    "\n",
    "    now = datetime.now()\n",
    "    date_and_time = now.strftime(\"%d%m%Y%H%M%S\")\n",
    "\n",
    "    out = open(os.path.join(directory, 'NOAA_ID' + str(i) + '_' + date_and_time + '.csv'), 'wb')\n",
    "\n",
    "    out.write(text)\n",
    "    out.close()\n",
    "\n",
    "    print(f\"File saved to: {out.name}\")\n"
   ]
  }
 ],
 "metadata": {
  "kernelspec": {
   "display_name": "cv_venv",
   "language": "python",
   "name": "python3"
  },
  "language_info": {
   "name": "python",
   "version": "3.11.9"
  },
  "orig_nbformat": 4
 },
 "nbformat": 4,
 "nbformat_minor": 2
}
