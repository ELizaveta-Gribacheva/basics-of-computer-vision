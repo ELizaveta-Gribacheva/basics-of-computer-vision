{
 "cells": [
  {
   "cell_type": "markdown",
   "metadata": {},
   "source": [
    "# lab 1"
   ]
  },
  {
   "cell_type": "code",
   "execution_count": 15,
   "metadata": {},
   "outputs": [],
   "source": [
    "import os\n",
    "from PIL import Image\n",
    "import numpy as np\n",
    "import matplotlib\n",
    "import matplotlib.pyplot as plt\n",
    "import matplotlib.image as mpimg\n",
    "import imageio\n",
    "import cv2\n"
   ]
  },
  {
   "cell_type": "code",
   "execution_count": 16,
   "metadata": {},
   "outputs": [],
   "source": [
    "def bw_0(filename):\n",
    "    img = mpimg.imread(filename)\n",
    "    arr = img.mean(axis=-1)\n",
    "    plt.imshow(arr, cmap=plt.get_cmap('gray'))\n",
    "    plt.show()\n",
    "    return img"
   ]
  },
  {
   "cell_type": "code",
   "execution_count": 17,
   "metadata": {},
   "outputs": [],
   "source": [
    "def bw(filename):\n",
    "\n",
    "    image = cv2.imread(filename, cv2.IMREAD_GRAYSCALE)\n",
    "    \n",
    "    thresholdValue = np.mean(image)\n",
    "    xDim, yDim = image.shape\n",
    "\n",
    "    for i in range(xDim):\n",
    "        for j in range(yDim):\n",
    "            if image[i][j] > thresholdValue:\n",
    "                image[i][j] = 255  \n",
    "            else:\n",
    "                image[i][j] = 0    \n",
    "\n",
    "    # cv2.imshow('Image', image)\n",
    "    # cv2.waitKey(0)\n",
    "    # cv2.destroyAllWindows()\n",
    "   \n",
    "    plt.imshow(image, cmap='gray')\n",
    "    plt.show()\n",
    "    return image\n",
    "\n"
   ]
  },
  {
   "cell_type": "code",
   "execution_count": 18,
   "metadata": {},
   "outputs": [],
   "source": [
    "def otsu(image):\n",
    "    height, width = image.shape\n",
    "    hist = np.zeros(256)\n",
    "\n",
    "    for i in range(height):\n",
    "        for j in range(width):\n",
    "            pixel_value = image[i, j]\n",
    "            hist[pixel_value] += 1\n",
    "\n",
    "    total_pixels = height * width\n",
    "    p = hist / total_pixels\n",
    "\n",
    "    max_variance = 0\n",
    "    optimal_threshold = 0\n",
    "\n",
    "    for a in range(256):\n",
    "        q1 = sum(p[:a])\n",
    "        q2 = sum(p[a:])\n",
    "\n",
    "        if q1 == 0 or q2 == 0:\n",
    "            continue\n",
    "\n",
    "        mean1 = sum([x * p[x] for x in range(a)]) / q1\n",
    "        mean2 = sum([x * p[x] for x in range(a, 256)]) / q2\n",
    "\n",
    "        var1 = sum([((x - mean1) ** 2) * p[x] for x in range(a)]) / q1\n",
    "        var2 = sum([((x - mean2) ** 2) * p[x] for x in range(a, 256)]) / q2\n",
    "\n",
    "        result = q1 * var1 + q2 * var2\n",
    "\n",
    "        if result > max_variance:\n",
    "            max_variance = result\n",
    "            optimal_threshold = a\n",
    "            \n",
    "    return optimal_threshold\n",
    "\n",
    "\n",
    "\n"
   ]
  },
  {
   "cell_type": "code",
   "execution_count": 31,
   "metadata": {},
   "outputs": [],
   "source": [
    "\n",
    "def objectImage(image2, filename):\n",
    "\n",
    "    original_image = cv2.imread(filename)\n",
    "    optimal_threshold = otsu(image2)\n",
    "\n",
    "    _, mask = cv2.threshold(image2, optimal_threshold, 255, cv2.THRESH_BINARY)\n",
    "\n",
    "    inverted_mask = cv2.bitwise_not(mask)\n",
    "\n",
    "    image_with_alpha = cv2.cvtColor(original_image, cv2.COLOR_BGR2BGRA)\n",
    "\n",
    "    image_with_alpha[:, :, 3] = inverted_mask\n",
    "\n",
    "    cv2.imwrite('object_' + filename, image_with_alpha)\n",
    "    \n",
    "    cv2.imshow('Mask', mask)\n",
    "\n",
    "    cv2.waitKey(0)\n",
    "    cv2.destroyAllWindows()\n"
   ]
  },
  {
   "cell_type": "code",
   "execution_count": 32,
   "metadata": {},
   "outputs": [
    {
     "data": {
      "image/png": "[encoded data removed]",
      "text/plain": [
       "<Figure size 640x480 with 1 Axes>"
      ]
     },
     "metadata": {},
     "output_type": "display_data"
    }
   ],
   "source": [
    "filename = \"before/lab1_foto2.png\"\n",
    "bw_image = bw(filename)\n",
    "\n",
    "objectImage(bw_image, filename)\n"
   ]
  }
 ],
 "metadata": {
  "kernelspec": {
   "display_name": "cv_venv",
   "language": "python",
   "name": "python3"
  },
  "language_info": {
   "codemirror_mode": {
    "name": "ipython",
    "version": 3
   },
   "file_extension": ".py",
   "mimetype": "text/x-python",
   "name": "python",
   "nbconvert_exporter": "python",
   "pygments_lexer": "ipython3",
   "version": "3.11.9"
  },
  "orig_nbformat": 4
 },
 "nbformat": 4,
 "nbformat_minor": 2
}
